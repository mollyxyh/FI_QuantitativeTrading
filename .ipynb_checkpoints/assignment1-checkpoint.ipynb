{
 "cells": [
  {
   "cell_type": "markdown",
   "metadata": {
    "collapsed": false
   },
   "source": [
    "### HW1 for Fixed-income Quantitative Trading\n",
    "\n",
    "**Instructions**\n",
    "Build a Jupyter Notebook to do the following:\n",
    "1) Upload data in 'CMT-all.xlsx' into pandas data frame\n",
    "2) Compute covariance matrix of the levels of the rates (R) and daily returns (dR), doing something reasonable about NAs \n",
    "3) (Extra credit/Optional) Perform PCA via eigenvalue decomposition or SVD, and plot time series of the first 3 principal components"
   ]
  },
  {
   "cell_type": "code",
   "execution_count": 1,
   "metadata": {
    "collapsed": false
   },
   "outputs": [
    {
     "name": "stdout",
     "output_type": "stream",
     "text": [
      "            1M    3M    6M    1Y    2Y    3Y    5Y    7Y   10Y  20Y   30Y\n",
      "Date                                                                     \n",
      "1990-01-02 NaN  7.83  7.89  7.81  7.87  7.90  7.87  7.98  7.94  NaN  8.00\n",
      "1990-01-03 NaN  7.89  7.94  7.85  7.94  7.96  7.92  8.04  7.99  NaN  8.04\n",
      "1990-01-04 NaN  7.84  7.90  7.82  7.92  7.93  7.91  8.02  7.98  NaN  8.04\n",
      "1990-01-05 NaN  7.79  7.85  7.79  7.90  7.94  7.92  8.03  7.99  NaN  8.06\n",
      "1990-01-08 NaN  7.79  7.88  7.81  7.90  7.95  7.92  8.05  8.02  NaN  8.09\n"
     ]
    }
   ],
   "source": [
    "import pandas as pd\n",
    "import numpy as np\n",
    "from sklearn.decomposition import PCA as sklearnPCA\n",
    "from matplotlib import pyplot as plt\n",
    "\n",
    "# read CMT file into pandas dataframe\n",
    "data_raw = pd.read_excel('CMT-all.xlsx')\n",
    "data_raw.set_index('Date', inplace=True)\n",
    "print(data_raw.head())"
   ]
  },
  {
   "cell_type": "code",
   "execution_count": 2,
   "metadata": {
    "collapsed": false
   },
   "outputs": [
    {
     "name": "stdout",
     "output_type": "stream",
     "text": [
      "              1M    3M    6M    1Y    2Y    3Y    5Y    7Y   10Y   20Y  \\\n",
      "Date                                                                     \n",
      "2001-08-01  3.65  3.53  3.47  3.56  3.83  4.09  4.62  4.90  5.11  5.63   \n",
      "2001-08-02  3.65  3.53  3.46  3.57  3.89  4.17  4.69  4.97  5.17  5.68   \n",
      "2001-08-03  3.63  3.52  3.47  3.57  3.91  4.22  4.72  4.99  5.20  5.70   \n",
      "2001-08-06  3.62  3.52  3.47  3.56  3.88  4.17  4.71  4.99  5.19  5.70   \n",
      "2001-08-07  3.63  3.52  3.47  3.56  3.90  4.19  4.72  5.00  5.20  5.71   \n",
      "\n",
      "             ...    3M_dR  6M_dR  1Y_dR  2Y_dR  3Y_dR  5Y_dR  7Y_dR  10Y_dR  \\\n",
      "Date         ...                                                              \n",
      "2001-08-01   ...    -0.01   0.00   0.03   0.04   0.03   0.05   0.04    0.04   \n",
      "2001-08-02   ...     0.00  -0.01   0.01   0.06   0.08   0.07   0.07    0.06   \n",
      "2001-08-03   ...    -0.01   0.01   0.00   0.02   0.05   0.03   0.02    0.03   \n",
      "2001-08-06   ...     0.00   0.00  -0.01  -0.03  -0.05  -0.01   0.00   -0.01   \n",
      "2001-08-07   ...     0.00   0.00   0.00   0.02   0.02   0.01   0.01    0.01   \n",
      "\n",
      "            20Y_dR  30Y_dR  \n",
      "Date                        \n",
      "2001-08-01    0.02    0.02  \n",
      "2001-08-02    0.05    0.04  \n",
      "2001-08-03    0.02    0.02  \n",
      "2001-08-06    0.00    0.00  \n",
      "2001-08-07    0.01    0.01  \n",
      "\n",
      "[5 rows x 22 columns]\n"
     ]
    }
   ],
   "source": [
    "# deal with missing values\n",
    "data_raw = data_raw.dropna()\n",
    "assert ~data_raw.isnull().values.any(), 'Warning: The dataset still has NaN values.'\n",
    "# calculate daily returns for different rate levels\n",
    "cols = list(data_raw.columns)\n",
    "for col in cols:\n",
    "    data_raw[col+'_dR'] = data_raw[col].diff()\n",
    "    \n",
    "data_raw = data_raw.iloc[1:,:] # get rid of the Nan return on the first row\n",
    "assert ~data_raw.isnull().values.any(), 'Warning: The dataset has NaN values.'\n",
    "print(data_raw.head())"
   ]
  },
  {
   "cell_type": "code",
   "execution_count": 3,
   "metadata": {
    "collapsed": false
   },
   "outputs": [
    {
     "name": "stdout",
     "output_type": "stream",
     "text": [
      "           1M        3M        6M        1Y        2Y        3Y        5Y  \\\n",
      "1M   2.963377  2.978744  2.998381  2.890111  2.626734  2.422290  2.059597   \n",
      "3M   2.978744  3.005998  3.031765  2.924367  2.659457  2.452639  2.085352   \n",
      "6M   2.998381  3.031765  3.069051  2.965238  2.699401  2.490503  2.118073   \n",
      "1Y   2.890111  2.924367  2.965238  2.874010  2.630203  2.435385  2.080816   \n",
      "2Y   2.626734  2.659457  2.699401  2.630203  2.443756  2.289028  1.988390   \n",
      "3Y   2.422290  2.452639  2.490503  2.435385  2.289028  2.168461  1.916301   \n",
      "5Y   2.059597  2.085352  2.118073  2.080816  1.988390  1.916301  1.751946   \n",
      "7Y   1.759297  1.781001  1.808008  1.781396  1.721693  1.679244  1.573537   \n",
      "10Y  1.505874  1.524924  1.548361  1.526493  1.481033  1.453472  1.389743   \n",
      "20Y  1.247121  1.262327  1.281134  1.268590  1.247736  1.241850  1.228077   \n",
      "30Y  1.010447  1.020857  1.030949  1.018188  1.002337  0.999817  0.999183   \n",
      "\n",
      "           7Y       10Y       20Y       30Y  \n",
      "1M   1.759297  1.505874  1.247121  1.010447  \n",
      "3M   1.781001  1.524924  1.262327  1.020857  \n",
      "6M   1.808008  1.548361  1.281134  1.030949  \n",
      "1Y   1.781396  1.526493  1.268590  1.018188  \n",
      "2Y   1.721693  1.481033  1.247736  1.002337  \n",
      "3Y   1.679244  1.453472  1.241850  0.999817  \n",
      "5Y   1.573537  1.389743  1.228077  0.999183  \n",
      "7Y   1.442094  1.296684  1.178329  0.967776  \n",
      "10Y  1.296684  1.195610  1.121472  0.928924  \n",
      "20Y  1.178329  1.121472  1.102458  0.920256  \n",
      "30Y  0.967776  0.928924  0.920256  0.782218  \n",
      "           1M_dR     3M_dR     6M_dR     1Y_dR     2Y_dR     3Y_dR     5Y_dR  \\\n",
      "1M_dR   0.008027  0.005414  0.004283  0.003728  0.002639  0.002068  0.001170   \n",
      "3M_dR   0.005414  0.005735  0.004581  0.003813  0.002720  0.002142  0.001188   \n",
      "6M_dR   0.004283  0.004581  0.004608  0.003874  0.002894  0.002349  0.001395   \n",
      "1Y_dR   0.003728  0.003813  0.003874  0.003712  0.003055  0.002603  0.001785   \n",
      "2Y_dR   0.002639  0.002720  0.002894  0.003055  0.003670  0.003421  0.002950   \n",
      "3Y_dR   0.002068  0.002142  0.002349  0.002603  0.003421  0.003636  0.003400   \n",
      "5Y_dR   0.001170  0.001188  0.001395  0.001785  0.002950  0.003400  0.003879   \n",
      "7Y_dR   0.000672  0.000661  0.000864  0.001292  0.002529  0.003105  0.003805   \n",
      "10Y_dR  0.000312  0.000289  0.000490  0.000898  0.002061  0.002658  0.003443   \n",
      "20Y_dR -0.000335 -0.000412 -0.000233  0.000193  0.001316  0.001980  0.002938   \n",
      "30Y_dR -0.000370 -0.000446 -0.000287  0.000110  0.001153  0.001793  0.002725   \n",
      "\n",
      "           7Y_dR    10Y_dR    20Y_dR    30Y_dR  \n",
      "1M_dR   0.000672  0.000312 -0.000335 -0.000370  \n",
      "3M_dR   0.000661  0.000289 -0.000412 -0.000446  \n",
      "6M_dR   0.000864  0.000490 -0.000233 -0.000287  \n",
      "1Y_dR   0.001292  0.000898  0.000193  0.000110  \n",
      "2Y_dR   0.002529  0.002061  0.001316  0.001153  \n",
      "3Y_dR   0.003105  0.002658  0.001980  0.001793  \n",
      "5Y_dR   0.003805  0.003443  0.002938  0.002725  \n",
      "7Y_dR   0.004029  0.003727  0.003368  0.003166  \n",
      "10Y_dR  0.003727  0.003681  0.003447  0.003282  \n",
      "20Y_dR  0.003368  0.003447  0.003640  0.003502  \n",
      "30Y_dR  0.003166  0.003282  0.003502  0.003495  \n"
     ]
    }
   ],
   "source": [
    "# calculate covariance matrix for rates and returns respectively\n",
    "cov_rate = data_raw.iloc[:,:11].cov()\n",
    "cov_return = data_raw.iloc[:,11:].cov()\n",
    "print(cov_rate)\n",
    "print(cov_return)"
   ]
  },
  {
   "cell_type": "code",
   "execution_count": 4,
   "metadata": {
    "collapsed": false
   },
   "outputs": [
    {
     "name": "stdout",
     "output_type": "stream",
     "text": [
      "0.0259412614423\n",
      "0.0162927368286\n",
      "0.00311066877104\n",
      "0.00140496149912\n",
      "0.000595251880328\n",
      "0.000305713539302\n",
      "0.000151905490934\n",
      "0.000119385543758\n",
      "8.06089582141e-05\n",
      "5.80937798569e-05\n",
      "5.07162032118e-05\n"
     ]
    }
   ],
   "source": [
    "## calculate eigenvectors and eigenvalues for the covariance matrix of returns\n",
    "eig_val_cov, eig_vec_cov = np.linalg.eig(cov_return)\n",
    "\n",
    "for ev in eig_vec_cov:\n",
    "    np.testing.assert_array_almost_equal(1.0, np.linalg.norm(ev))\n",
    "\n",
    "# make a list of (eigenvalue, eigenvector) tuples\n",
    "eig_pairs = [(np.abs(eig_val_cov[i]), eig_vec_cov[:,i]) for i in range(len(eig_val_cov))]\n",
    "\n",
    "# sort the (eigenvalue, eigenvector) tuples from high to low\n",
    "eig_pairs.sort(key=lambda x: x[0], reverse=True)\n",
    "\n",
    "# visually confirm that the list is correctly sorted by decreasing eigenvalues\n",
    "for i in eig_pairs:\n",
    "    print(i[0])"
   ]
  },
  {
   "cell_type": "code",
   "execution_count": 5,
   "metadata": {
    "collapsed": false
   },
   "outputs": [
    {
     "name": "stdout",
     "output_type": "stream",
     "text": [
      "('Matrix W:\\n', array([[ 0.36226737,  0.41581786, -0.70523024],\n",
      "       [ 0.33546254,  0.36621258, -0.05845185],\n",
      "       [ 0.32006302,  0.29238966,  0.2344362 ],\n",
      "       [ 0.31634412,  0.20254817,  0.27079176],\n",
      "       [ 0.34092407,  0.00360026,  0.35200405],\n",
      "       [ 0.34002096, -0.10113162,  0.27992188],\n",
      "       [ 0.31912674, -0.25193943,  0.10352421],\n",
      "       [ 0.29402321, -0.31940366, -0.02033779],\n",
      "       [ 0.25579308, -0.33789059, -0.11298011],\n",
      "       [ 0.19185008, -0.37756129, -0.25598396],\n",
      "       [ 0.17703602, -0.36607521, -0.28152957]]))\n"
     ]
    }
   ],
   "source": [
    "matrix_w = np.hstack((eig_pairs[0][1].reshape(11,1), eig_pairs[1][1].reshape(11,1), eig_pairs[2][1].reshape(11,1)))\n",
    "print('Matrix W:\\n', matrix_w)"
   ]
  },
  {
   "cell_type": "code",
   "execution_count": 7,
   "metadata": {
    "collapsed": false
   },
   "outputs": [
    {
     "data": {
      "image/png": "[encoded data removed]",
      "text/plain": [
       "<matplotlib.figure.Figure at 0x1116c6590>"
      ]
     },
     "metadata": {},
     "output_type": "display_data"
    }
   ],
   "source": [
    "# plot time series of the first 3 principal components\n",
    "plt.plot(matrix_w)\n",
    "plt.xlabel('x_values')\n",
    "plt.ylabel('y_values')\n",
    "plt.legend()\n",
    "plt.title('The first 3 principal components of the yield curve')\n",
    "plt.show()"
   ]
  }
 ],
 "metadata": {
  "kernelspec": {
   "display_name": "Python 2",
   "language": "python",
   "name": "python2"
  },
  "language_info": {
   "codemirror_mode": {
    "name": "ipython",
    "version": 2
   },
   "file_extension": ".py",
   "mimetype": "text/x-python",
   "name": "python",
   "nbconvert_exporter": "python",
   "pygments_lexer": "ipython2",
   "version": "2.7.13"
  }
 },
 "nbformat": 4,
 "nbformat_minor": 2
}
